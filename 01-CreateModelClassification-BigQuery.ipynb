{
 "cells": [
  {
   "cell_type": "markdown",
   "metadata": {},
   "source": [
    "**Name:** \n",
    "\n",
    "**ID:**"
   ]
  },
  {
   "cell_type": "code",
   "execution_count": null,
   "metadata": {
    "colab": {
     "base_uri": "https://localhost:8080/"
    },
    "executionInfo": {
     "elapsed": 480,
     "status": "ok",
     "timestamp": 1709983046036,
     "user": {
      "displayName": "Niwan Wattanakitrungroj",
      "userId": "07262508947735166881"
     },
     "user_tz": -420
    },
    "id": "RB-8igOtfMDU",
    "outputId": "869924ef-05aa-47f2-ee3d-ae0dd945a0fc"
   },
   "outputs": [],
   "source": [
    "# Authenticate and authorize access\n",
    "from google.colab import auth\n",
    "auth.authenticate_user()\n",
    "print('Authenticated')"
   ]
  },
  {
   "cell_type": "markdown",
   "metadata": {
    "id": "a0-WOLPxVTIf"
   },
   "source": [
    "**BigQuery DataFrames**\n",
    "\n",
    "- bigframes.pandas provides a pandas-compatible API for analytics.\n",
    "\n",
    "- bigframes.ml provides a scikit-learn-like API for ML.\n",
    "\n",
    "\n",
    "> https://cloud.google.com/python/docs/reference/bigframes/latest\n",
    "\n"
   ]
  },
  {
   "cell_type": "markdown",
   "metadata": {
    "id": "GsGRZwRUYAo0"
   },
   "source": [
    "**Get data from BigQuery**"
   ]
  },
  {
   "cell_type": "code",
   "execution_count": null,
   "metadata": {
    "id": "mblsXLtag6K2"
   },
   "outputs": [],
   "source": [
    "import bigframes.pandas as bf"
   ]
  },
  {
   "cell_type": "code",
   "execution_count": null,
   "metadata": {
    "id": "khWJEh4vqLXN"
   },
   "outputs": [],
   "source": [
    "PROJECT_ID = 'ds-on-gcp-411105'"
   ]
  },
  {
   "cell_type": "code",
   "execution_count": null,
   "metadata": {
    "id": "jXjv1ZjzqN_Q"
   },
   "outputs": [],
   "source": [
    "REGION = 'US'"
   ]
  },
  {
   "cell_type": "code",
   "execution_count": null,
   "metadata": {
    "id": "I0pREsgmpxuP"
   },
   "outputs": [],
   "source": [
    "bf.options.bigquery.project = PROJECT_ID\n",
    "bf.options.bigquery.location = REGION"
   ]
  },
  {
   "cell_type": "code",
   "execution_count": null,
   "metadata": {
    "id": "Cdq8DEpiqSWi"
   },
   "outputs": [],
   "source": [
    "df = bf.read_gbq(\"bigquery-public-data.ml_datasets.penguins\")"
   ]
  },
  {
   "cell_type": "code",
   "execution_count": null,
   "metadata": {
    "colab": {
     "base_uri": "https://localhost:8080/",
     "height": 305
    },
    "executionInfo": {
     "elapsed": 6118,
     "status": "ok",
     "timestamp": 1709983062389,
     "user": {
      "displayName": "Niwan Wattanakitrungroj",
      "userId": "07262508947735166881"
     },
     "user_tz": -420
    },
    "id": "KdjaXS00qYoa",
    "outputId": "f3e1e8ba-bac1-4734-e413-27be89048199"
   },
   "outputs": [],
   "source": [
    "df.head()"
   ]
  },
  {
   "cell_type": "code",
   "execution_count": null,
   "metadata": {
    "colab": {
     "base_uri": "https://localhost:8080/",
     "height": 53
    },
    "executionInfo": {
     "elapsed": 1327,
     "status": "ok",
     "timestamp": 1709983070858,
     "user": {
      "displayName": "Niwan Wattanakitrungroj",
      "userId": "07262508947735166881"
     },
     "user_tz": -420
    },
    "id": "pYv1iDwLZEoK",
    "outputId": "0a4134c2-b7a4-4b8c-dc2f-af1d00f2d277"
   },
   "outputs": [],
   "source": [
    "df.shape"
   ]
  },
  {
   "cell_type": "markdown",
   "metadata": {
    "id": "JhLw3B7WYtmW"
   },
   "source": [
    "**Check missing values**"
   ]
  },
  {
   "cell_type": "code",
   "execution_count": null,
   "metadata": {
    "colab": {
     "base_uri": "https://localhost:8080/",
     "height": 215
    },
    "executionInfo": {
     "elapsed": 8334,
     "status": "ok",
     "timestamp": 1709984871988,
     "user": {
      "displayName": "Niwan Wattanakitrungroj",
      "userId": "07262508947735166881"
     },
     "user_tz": -420
    },
    "id": "lx4DDKjfYkml",
    "outputId": "b715d92f-cdd4-431e-f882-64eea4bf6857"
   },
   "outputs": [],
   "source": [
    "df.isna().sum()"
   ]
  },
  {
   "cell_type": "markdown",
   "metadata": {
    "id": "aLpDvSJYiE8L"
   },
   "source": [
    "**Impute missing values**"
   ]
  },
  {
   "cell_type": "code",
   "execution_count": null,
   "metadata": {
    "id": "vljqcFGAYkFw"
   },
   "outputs": [],
   "source": [
    "# Drop rows where 'culmen_length_mm' is NaN\n",
    "df = df[df['culmen_length_mm'].notnull()]"
   ]
  },
  {
   "cell_type": "code",
   "execution_count": null,
   "metadata": {
    "colab": {
     "base_uri": "https://localhost:8080/",
     "height": 34
    },
    "executionInfo": {
     "elapsed": 3391,
     "status": "ok",
     "timestamp": 1709984889180,
     "user": {
      "displayName": "Niwan Wattanakitrungroj",
      "userId": "07262508947735166881"
     },
     "user_tz": -420
    },
    "id": "1bQn8HLWdHXh",
    "outputId": "baa81777-a920-459a-8e14-247c08d1f255"
   },
   "outputs": [],
   "source": [
    "# Fill NaN values in 'sex' column with mode_sex\n",
    "mode_sex = df['sex'].mode()[0] # Mode can return multiple values, so we take the first one\n",
    "\n",
    "df['sex'] = df['sex'].fillna(mode_sex)"
   ]
  },
  {
   "cell_type": "markdown",
   "metadata": {
    "id": "PdA5yPNCjM-Y"
   },
   "source": [
    "**Train/ Test splitting**"
   ]
  },
  {
   "cell_type": "code",
   "execution_count": null,
   "metadata": {
    "id": "zdW-vk-qiBIb"
   },
   "outputs": [],
   "source": [
    "from bigframes import ml"
   ]
  },
  {
   "cell_type": "code",
   "execution_count": null,
   "metadata": {
    "id": "KBTNB5RJlM9r"
   },
   "outputs": [],
   "source": [
    "import bigframes.ml.model_selection\n",
    "import bigframes.ml.ensemble\n",
    "import bigframes.ml.metrics"
   ]
  },
  {
   "cell_type": "code",
   "execution_count": null,
   "metadata": {
    "id": "OevA-fp6iBAd"
   },
   "outputs": [],
   "source": [
    "# Define your features and target\n",
    "X = df.drop(columns=['species'])  # Features\n",
    "y = df['species']  # Target"
   ]
  },
  {
   "cell_type": "code",
   "execution_count": null,
   "metadata": {
    "colab": {
     "base_uri": "https://localhost:8080/",
     "height": 34
    },
    "executionInfo": {
     "elapsed": 1940,
     "status": "ok",
     "timestamp": 1709984903242,
     "user": {
      "displayName": "Niwan Wattanakitrungroj",
      "userId": "07262508947735166881"
     },
     "user_tz": -420
    },
    "id": "83Tn27SXcEtF",
    "outputId": "daf0993d-a8a5-48f3-dd7a-11cbd4fad90b"
   },
   "outputs": [],
   "source": [
    "# Split data using BigFrames\n",
    "X_train, X_test, y_train, y_test = ml.model_selection.train_test_split(X, y, test_size=0.2, random_state=42)\n"
   ]
  },
  {
   "cell_type": "markdown",
   "metadata": {
    "id": "IsHqzYksmaZ5"
   },
   "source": [
    "**Create model with Train data using bigframes.ml**"
   ]
  },
  {
   "cell_type": "code",
   "execution_count": null,
   "metadata": {
    "id": "lfYjM4mvysYt"
   },
   "outputs": [],
   "source": [
    "import time"
   ]
  },
  {
   "cell_type": "code",
   "execution_count": null,
   "metadata": {
    "colab": {
     "base_uri": "https://localhost:8080/",
     "height": 87
    },
    "executionInfo": {
     "elapsed": 276893,
     "status": "ok",
     "timestamp": 1709985188673,
     "user": {
      "displayName": "Niwan Wattanakitrungroj",
      "userId": "07262508947735166881"
     },
     "user_tz": -420
    },
    "id": "hogwCHpUlpt5",
    "outputId": "68a70759-94ed-4f01-e72a-ccf84837f54c"
   },
   "outputs": [],
   "source": [
    "# Create classification model\n",
    "start_time = time.time()\n",
    "model = ml.ensemble.RandomForestClassifier(num_parallel_tree=5)  # Example classifier\n",
    "\n",
    "# Train the model\n",
    "model.fit(X_train, y_train)\n",
    "training_time = time.time() - start_time\n",
    "\n",
    "print(\"Training time:\", training_time, \"seconds\")"
   ]
  },
  {
   "cell_type": "markdown",
   "metadata": {
    "id": "jf0gmbKOqamO"
   },
   "source": [
    "**Predict Test data using the created model**"
   ]
  },
  {
   "cell_type": "code",
   "execution_count": null,
   "metadata": {
    "colab": {
     "base_uri": "https://localhost:8080/",
     "height": 52
    },
    "executionInfo": {
     "elapsed": 8258,
     "status": "ok",
     "timestamp": 1709985695930,
     "user": {
      "displayName": "Niwan Wattanakitrungroj",
      "userId": "07262508947735166881"
     },
     "user_tz": -420
    },
    "id": "xCX4Z-tTmZLA",
    "outputId": "6b40f780-65ac-44c7-94f2-3128bb7ee0e7"
   },
   "outputs": [],
   "source": [
    "# Predict test set\n",
    "y_pred = model.predict(X_test)"
   ]
  },
  {
   "cell_type": "code",
   "execution_count": null,
   "metadata": {
    "id": "_M6TkGiYsR7F"
   },
   "outputs": [],
   "source": [
    "y_pred = y_pred['predicted_species']"
   ]
  },
  {
   "cell_type": "markdown",
   "metadata": {
    "id": "RByBDnU3qyqG"
   },
   "source": [
    "**Evaluation**"
   ]
  },
  {
   "cell_type": "markdown",
   "metadata": {
    "id": "pVyId6LEHcKq"
   },
   "source": [
    "**Confusion matrix**"
   ]
  },
  {
   "cell_type": "code",
   "execution_count": null,
   "metadata": {
    "colab": {
     "base_uri": "https://localhost:8080/",
     "height": 34
    },
    "executionInfo": {
     "elapsed": 4359,
     "status": "ok",
     "timestamp": 1709985703067,
     "user": {
      "displayName": "Niwan Wattanakitrungroj",
      "userId": "07262508947735166881"
     },
     "user_tz": -420
    },
    "id": "fVnHZSP8qZwb",
    "outputId": "9a14298c-e441-4b40-af07-40a0112bc505"
   },
   "outputs": [],
   "source": [
    "conf_matrix = ml.metrics.confusion_matrix(y_test, y_pred)"
   ]
  },
  {
   "cell_type": "code",
   "execution_count": null,
   "metadata": {
    "colab": {
     "base_uri": "https://localhost:8080/",
     "height": 143
    },
    "executionInfo": {
     "elapsed": 4,
     "status": "ok",
     "timestamp": 1709985703067,
     "user": {
      "displayName": "Niwan Wattanakitrungroj",
      "userId": "07262508947735166881"
     },
     "user_tz": -420
    },
    "id": "K_c0rY1prLPZ",
    "outputId": "082d1f1d-0d85-4f3d-9380-19aa236b9c6d"
   },
   "outputs": [],
   "source": [
    "conf_matrix"
   ]
  },
  {
   "cell_type": "markdown",
   "metadata": {
    "id": "vKzsCZvZHfsW"
   },
   "source": [
    "**Accuracy**,  **precision_score**, **recall_score**, **f1_score**"
   ]
  },
  {
   "cell_type": "code",
   "execution_count": null,
   "metadata": {
    "colab": {
     "base_uri": "https://localhost:8080/",
     "height": 53
    },
    "executionInfo": {
     "elapsed": 5286,
     "status": "ok",
     "timestamp": 1709986394808,
     "user": {
      "displayName": "Niwan Wattanakitrungroj",
      "userId": "07262508947735166881"
     },
     "user_tz": -420
    },
    "id": "1Ky-w39u6mkd",
    "outputId": "ab0e53bc-61e3-429f-b11e-19afc13bb514"
   },
   "outputs": [],
   "source": [
    "#Accuracy\n",
    "accuracy = ml.metrics.accuracy_score(y_test, y_pred)\n",
    "print(accuracy)"
   ]
  },
  {
   "cell_type": "code",
   "execution_count": null,
   "metadata": {
    "id": "tAHyyUnsKrDj"
   },
   "outputs": [],
   "source": [
    "#Precision\n"
   ]
  },
  {
   "cell_type": "code",
   "execution_count": null,
   "metadata": {
    "id": "WYo0mOzkKq9H"
   },
   "outputs": [],
   "source": [
    "#Recall"
   ]
  },
  {
   "cell_type": "code",
   "execution_count": null,
   "metadata": {
    "id": "xw1pmHTBKq5h"
   },
   "outputs": [],
   "source": [
    "#F1"
   ]
  },
  {
   "cell_type": "markdown",
   "metadata": {
    "id": "sGoGY9bOJYe2"
   },
   "source": [
    "**Save the model in BigQuery**"
   ]
  },
  {
   "cell_type": "code",
   "execution_count": null,
   "metadata": {
    "colab": {
     "base_uri": "https://localhost:8080/"
    },
    "executionInfo": {
     "elapsed": 849,
     "status": "ok",
     "timestamp": 1709987792514,
     "user": {
      "displayName": "Niwan Wattanakitrungroj",
      "userId": "07262508947735166881"
     },
     "user_tz": -420
    },
    "id": "rCEbcH3F6mZA",
    "outputId": "2d7beb20-a1b7-4374-f0f2-cec72df4a7fb"
   },
   "outputs": [],
   "source": [
    "from google.cloud import bigquery\n",
    "\n",
    "PROJECT_ID = 'ds-on-gcp-411105'\n",
    "DATASET_ID = \"DemoSupervisedML\"\n",
    "REGION = 'US'\n",
    "\n",
    "client = bigquery.Client(project=PROJECT_ID)\n",
    "dataset = bigquery.Dataset(PROJECT_ID + \".\" + DATASET_ID)\n",
    "dataset.location = REGION\n",
    "dataset = client.create_dataset(dataset, exists_ok=True)\n",
    "\n",
    "print(f\"Dataset {dataset.dataset_id} created.\")"
   ]
  },
  {
   "cell_type": "code",
   "execution_count": null,
   "metadata": {
    "id": "83HuP1W_u5TV"
   },
   "outputs": [],
   "source": [
    "MODEL_NAME = 'RF_predict_penguin_species'\n",
    "model.to_gbq(DATASET_ID + \".\" + MODEL_NAME, replace=True)\n",
    "print(f'https://console.developers.google.com/bigquery?p={PROJECT_ID}')"
   ]
  },
  {
   "cell_type": "code",
   "execution_count": null,
   "metadata": {
    "id": "ozKjVAk5KpG5"
   },
   "outputs": [],
   "source": []
  },
  {
   "cell_type": "code",
   "execution_count": null,
   "metadata": {
    "id": "tlhduV1vKpDW"
   },
   "outputs": [],
   "source": []
  },
  {
   "cell_type": "code",
   "execution_count": null,
   "metadata": {
    "id": "5YfLUkqhxyU7"
   },
   "outputs": [],
   "source": []
  }
 ],
 "metadata": {
  "colab": {
   "authorship_tag": "ABX9TyNKbgxlqOSeDU07JF5ycv/O",
   "provenance": []
  },
  "kernelspec": {
   "display_name": "Python 3 (ipykernel)",
   "language": "python",
   "name": "python3"
  },
  "language_info": {
   "codemirror_mode": {
    "name": "ipython",
    "version": 3
   },
   "file_extension": ".py",
   "mimetype": "text/x-python",
   "name": "python",
   "nbconvert_exporter": "python",
   "pygments_lexer": "ipython3",
   "version": "3.10.11"
  }
 },
 "nbformat": 4,
 "nbformat_minor": 4
}
