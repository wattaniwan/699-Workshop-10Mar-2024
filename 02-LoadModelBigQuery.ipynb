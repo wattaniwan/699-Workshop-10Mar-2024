{
 "cells": [
  {
   "cell_type": "markdown",
   "metadata": {},
   "source": [
    "**Name:** \n",
    "\n",
    "**ID:**"
   ]
  },
  {
   "cell_type": "code",
   "execution_count": null,
   "metadata": {
    "colab": {
     "base_uri": "https://localhost:8080/"
    },
    "executionInfo": {
     "elapsed": 16552,
     "status": "ok",
     "timestamp": 1709990328917,
     "user": {
      "displayName": "Niwan Wattanakitrungroj",
      "userId": "07262508947735166881"
     },
     "user_tz": -420
    },
    "id": "QHV6biRYSo5N",
    "outputId": "9fe11eeb-8c5b-44eb-e38e-cfc0e466ebf5"
   },
   "outputs": [],
   "source": [
    "# Authenticate and authorize access\n",
    "from google.colab import auth\n",
    "auth.authenticate_user()\n",
    "print('Authenticated')"
   ]
  },
  {
   "cell_type": "code",
   "execution_count": null,
   "metadata": {
    "id": "nSAfOYgyj-Qi"
   },
   "outputs": [],
   "source": [
    "from google.cloud import bigquery\n",
    "\n",
    "# Load the model from BigQuery\n",
    "PROJECT_ID = 'ds-on-gcp-411105'\n",
    "DATASET_ID = \"DemoSupervisedML\"\n",
    "MODEL_NAME = 'RF_predict_penguin_species'\n",
    "\n",
    "client = bigquery.Client(project=PROJECT_ID)\n"
   ]
  },
  {
   "cell_type": "code",
   "execution_count": null,
   "metadata": {
    "id": "pGsjbrqSkExi"
   },
   "outputs": [],
   "source": [
    "# Prepare the input data\n",
    "input_data = {\n",
    "    'island': 'Biscoe',\n",
    "    'culmen_length_mm': 50.5,\n",
    "    'culmen_depth_mm': 15.9,\n",
    "    'flipper_length_mm': 225.0,\n",
    "    'body_mass_g': 5400.0,\n",
    "    'sex': 'MALE'\n",
    "}\n"
   ]
  },
  {
   "cell_type": "code",
   "execution_count": null,
   "metadata": {
    "colab": {
     "base_uri": "https://localhost:8080/"
    },
    "executionInfo": {
     "elapsed": 1265,
     "status": "ok",
     "timestamp": 1709993462230,
     "user": {
      "displayName": "Niwan Wattanakitrungroj",
      "userId": "07262508947735166881"
     },
     "user_tz": -420
    },
    "id": "_OYP6kwbc7kH",
    "outputId": "022acaf8-9147-4a5e-ca40-d5ad0dfb501c"
   },
   "outputs": [],
   "source": [
    "\n",
    "# Construct the SQL query to make predictions\n",
    "sql = f'''\n",
    "SELECT\n",
    "  *\n",
    "FROM\n",
    "  ML.PREDICT(MODEL `ds-on-gcp-411105.DemoSupervisedML.RF_predict_penguin_species`,\n",
    "             (\n",
    "             SELECT\n",
    "               '{input_data['island']}' AS island,\n",
    "               {input_data['culmen_length_mm']} AS culmen_length_mm,\n",
    "               {input_data['culmen_depth_mm']} AS culmen_depth_mm,\n",
    "               {input_data['flipper_length_mm']} AS flipper_length_mm,\n",
    "               {input_data['body_mass_g']} AS body_mass_g,\n",
    "               '{input_data['sex']}' AS sex\n",
    "             ))\n",
    "'''\n",
    "\n",
    "# Execute the query\n",
    "query_job = client.query(sql)\n"
   ]
  },
  {
   "cell_type": "code",
   "execution_count": null,
   "metadata": {
    "executionInfo": {
     "elapsed": 2,
     "status": "ok",
     "timestamp": 1709993874856,
     "user": {
      "displayName": "Niwan Wattanakitrungroj",
      "userId": "07262508947735166881"
     },
     "user_tz": -420
    },
    "id": "d8xsO2YChMeZ"
   },
   "outputs": [],
   "source": [
    "results = query_job.result()"
   ]
  },
  {
   "cell_type": "code",
   "execution_count": null,
   "metadata": {
    "colab": {
     "base_uri": "https://localhost:8080/"
    },
    "executionInfo": {
     "elapsed": 6,
     "status": "ok",
     "timestamp": 1709993878532,
     "user": {
      "displayName": "Niwan Wattanakitrungroj",
      "userId": "07262508947735166881"
     },
     "user_tz": -420
    },
    "id": "wTJa-UG6g-XZ",
    "outputId": "bad6a30d-cb01-4e02-cc6b-d63b1c94a462"
   },
   "outputs": [],
   "source": [
    "# Get the predicted value\n",
    "for row in results:\n",
    "    prediction = row['predicted_species']\n",
    "    print(f'Predicted label: {prediction}')\n"
   ]
  },
  {
   "cell_type": "code",
   "execution_count": null,
   "metadata": {
    "id": "s1eAwhwDjH_p"
   },
   "outputs": [],
   "source": []
  }
 ],
 "metadata": {
  "colab": {
   "authorship_tag": "ABX9TyORu7QRDe+zlnMLJavTb6v+",
   "provenance": []
  },
  "kernelspec": {
   "display_name": "Python 3 (ipykernel)",
   "language": "python",
   "name": "python3"
  },
  "language_info": {
   "codemirror_mode": {
    "name": "ipython",
    "version": 3
   },
   "file_extension": ".py",
   "mimetype": "text/x-python",
   "name": "python",
   "nbconvert_exporter": "python",
   "pygments_lexer": "ipython3",
   "version": "3.10.11"
  }
 },
 "nbformat": 4,
 "nbformat_minor": 4
}
